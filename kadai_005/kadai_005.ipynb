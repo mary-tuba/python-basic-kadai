{
  "nbformat": 4,
  "nbformat_minor": 0,
  "metadata": {
    "colab": {
      "provenance": [],
      "toc_visible": true,
      "authorship_tag": "ABX9TyO8G6OO7HhVv5W9Oxl/75sI",
      "include_colab_link": true
    },
    "kernelspec": {
      "name": "python3",
      "display_name": "Python 3"
    },
    "language_info": {
      "name": "python"
    }
  },
  "cells": [
    {
      "cell_type": "markdown",
      "metadata": {
        "id": "view-in-github",
        "colab_type": "text"
      },
      "source": [
        "<a href=\"https://colab.research.google.com/github/mary-tuba/python-basic-kadai/blob/main/kadai_005/kadai_005.ipynb\" target=\"_parent\"><img src=\"https://colab.research.google.com/assets/colab-badge.svg\" alt=\"Open In Colab\"/></a>"
      ]
    },
    {
      "cell_type": "markdown",
      "source": [
        "# 変数を使って四則演算しよう"
      ],
      "metadata": {
        "id": "qgeYvssxs5Ya"
      }
    },
    {
      "cell_type": "code",
      "execution_count": 8,
      "metadata": {
        "colab": {
          "base_uri": "https://localhost:8080/"
        },
        "id": "yO3rrtMcsNEo",
        "outputId": "319dbd79-6346-4708-9701-cd6edf62b5e8"
      },
      "outputs": [
        {
          "output_type": "stream",
          "name": "stdout",
          "text": [
            "上辺：10cm\n",
            "下辺：20cm\n",
            "高さ：5cm\n",
            "\n",
            "公式：台形の面積 =（上辺＋下辺）× 高さ ÷ 2\n",
            "\n",
            "台形の面積は75.0cm²です\n"
          ]
        }
      ],
      "source": [
        "top = 10\n",
        "down = 20\n",
        "height = 5\n",
        "\n",
        "trapezoid = (top + down) * height / 2\n",
        "\n",
        "print(f\"上辺：{top}cm\")\n",
        "print(f\"下辺：{down}cm\")\n",
        "print(f\"高さ：{height}cm\")\n",
        "print()\n",
        "print(\"公式：台形の面積 =（上辺＋下辺）× 高さ ÷ 2\")\n",
        "print()\n",
        "print(f\"台形の面積は{trapezoid}cm²です\")\n"
      ]
    }
  ]
}