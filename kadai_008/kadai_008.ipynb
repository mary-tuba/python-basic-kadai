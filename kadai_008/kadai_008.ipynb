{
  "nbformat": 4,
  "nbformat_minor": 0,
  "metadata": {
    "colab": {
      "provenance": [],
      "authorship_tag": "ABX9TyNC2Fge3rLhlPza6/12IqNB",
      "include_colab_link": true
    },
    "kernelspec": {
      "name": "python3",
      "display_name": "Python 3"
    },
    "language_info": {
      "name": "python"
    }
  },
  "cells": [
    {
      "cell_type": "markdown",
      "metadata": {
        "id": "view-in-github",
        "colab_type": "text"
      },
      "source": [
        "<a href=\"https://colab.research.google.com/github/mary-tuba/python-basic-kadai/blob/main/kadai_008/kadai_008.ipynb\" target=\"_parent\"><img src=\"https://colab.research.google.com/assets/colab-badge.svg\" alt=\"Open In Colab\"/></a>"
      ]
    },
    {
      "cell_type": "markdown",
      "source": [
        "条件分岐のif文で処理を切り替えよう"
      ],
      "metadata": {
        "id": "kGQv5h0GYC4D"
      }
    },
    {
      "cell_type": "code",
      "source": [
        "import random\n",
        "\n",
        "var = random.randint(1,100)\n",
        "\n",
        "print(f\"代入された値は{var}です\")\n",
        "\n",
        "if var % 3 == 0 and var % 5 == 0:\n",
        "    print('FizzBuzz')\n",
        "elif var % 5 == 0:\n",
        "    print('Buzz')\n",
        "elif var % 3 == 0:\n",
        "    print('Fizz')\n",
        "else:\n",
        "    print(var)\n"
      ],
      "metadata": {
        "colab": {
          "base_uri": "https://localhost:8080/"
        },
        "id": "yGJfK4GqYKAU",
        "outputId": "2e68234f-ab98-4e68-823a-75a1a77365ff"
      },
      "execution_count": 56,
      "outputs": [
        {
          "output_type": "stream",
          "name": "stdout",
          "text": [
            "代入された値は41です\n",
            "41\n"
          ]
        }
      ]
    },
    {
      "cell_type": "code",
      "source": [],
      "metadata": {
        "id": "VYY1G4uhZ26d"
      },
      "execution_count": null,
      "outputs": []
    }
  ]
}