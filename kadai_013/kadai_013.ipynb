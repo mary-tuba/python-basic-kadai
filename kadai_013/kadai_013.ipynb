{
  "nbformat": 4,
  "nbformat_minor": 0,
  "metadata": {
    "colab": {
      "provenance": [],
      "authorship_tag": "ABX9TyOILutwNqmvcghfdsXeElfC",
      "include_colab_link": true
    },
    "kernelspec": {
      "name": "python3",
      "display_name": "Python 3"
    },
    "language_info": {
      "name": "python"
    }
  },
  "cells": [
    {
      "cell_type": "markdown",
      "metadata": {
        "id": "view-in-github",
        "colab_type": "text"
      },
      "source": [
        "<a href=\"https://colab.research.google.com/github/mary-tuba/python-basic-kadai/blob/main/kadai_013/kadai_013.ipynb\" target=\"_parent\"><img src=\"https://colab.research.google.com/assets/colab-badge.svg\" alt=\"Open In Colab\"/></a>"
      ]
    },
    {
      "cell_type": "markdown",
      "source": [
        "関数を使いこなそう"
      ],
      "metadata": {
        "id": "82UAEwAZHjTG"
      }
    },
    {
      "cell_type": "code",
      "source": [
        "prise = 0\n",
        "tax_rate = 0.1\n",
        "\n",
        "def calculate_tax(price, tax_rate):\n",
        "  tax_amount = price * tax_rate\n",
        "  return tax_amount\n",
        "\n",
        "prise = 1000\n",
        "tax = calculate_tax(prise, tax_rate)\n",
        "add_tax = prise + tax\n",
        "\n",
        "print(f\"{prise}円の商品の\")\n",
        "print(f\"消費税は{tax}円です\")\n",
        "print(f\"税込金額は{add_tax}円です\")\n",
        "\n",
        "\n",
        "\n"
      ],
      "metadata": {
        "colab": {
          "base_uri": "https://localhost:8080/"
        },
        "id": "-If6GGTJHmin",
        "outputId": "28f515fc-fb65-46f1-f5ae-a3138286ad66"
      },
      "execution_count": 14,
      "outputs": [
        {
          "output_type": "stream",
          "name": "stdout",
          "text": [
            "1000円の商品の\n",
            "消費税は100.0円です\n",
            "税込金額は1100.0円です\n"
          ]
        }
      ]
    }
  ]
}