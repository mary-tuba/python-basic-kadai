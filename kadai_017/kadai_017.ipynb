{
  "nbformat": 4,
  "nbformat_minor": 0,
  "metadata": {
    "colab": {
      "provenance": [],
      "authorship_tag": "ABX9TyPvtKgapwmutZV4qAajGa53",
      "include_colab_link": true
    },
    "kernelspec": {
      "name": "python3",
      "display_name": "Python 3"
    },
    "language_info": {
      "name": "python"
    }
  },
  "cells": [
    {
      "cell_type": "markdown",
      "metadata": {
        "id": "view-in-github",
        "colab_type": "text"
      },
      "source": [
        "<a href=\"https://colab.research.google.com/github/mary-tuba/python-basic-kadai/blob/main/kadai_017/kadai_017.ipynb\" target=\"_parent\"><img src=\"https://colab.research.google.com/assets/colab-badge.svg\" alt=\"Open In Colab\"/></a>"
      ]
    },
    {
      "cell_type": "markdown",
      "source": [
        "学習したことを組み合わせてコードを書こう"
      ],
      "metadata": {
        "id": "DxbZps-B13Zd"
      }
    },
    {
      "cell_type": "code",
      "execution_count": 10,
      "metadata": {
        "colab": {
          "base_uri": "https://localhost:8080/"
        },
        "id": "-1BosJHu1kP9",
        "outputId": "377d2689-0c41-48cb-d2d0-c00ac9f0d8fb"
      },
      "outputs": [
        {
          "output_type": "stream",
          "name": "stdout",
          "text": [
            "太郎さんは、20歳なので、大人です。\n",
            "二郎さんは、15歳なので、ではありません\n",
            "三郎さんは、30歳なので、大人です。\n",
            "四郎さんは、10歳なので、ではありません\n"
          ]
        }
      ],
      "source": [
        "class Human:\n",
        "  def __init__(self, name, age):\n",
        "    self.name = name\n",
        "    self.age = age\n",
        "\n",
        "  def check_adult(self):\n",
        "    if self.age >= 20:\n",
        "      print(f\"{self.name}さんは、{self.age}歳なので、大人です。\")\n",
        "    else:\n",
        "      print(f\"{self.name}さんは、{self.age}歳なので、ではありません\")\n",
        "\n",
        "taro = Human(\"太郎\", 20)\n",
        "jiro = Human(\"二郎\", 15)\n",
        "saburo = Human(\"三郎\", 30)\n",
        "shiro = Human(\"四郎\", 10)\n",
        "\n",
        "check_adult_list = [taro, jiro, saburo, shiro]\n",
        "\n",
        "for human in check_adult_list:\n",
        "  human.check_adult()\n"
      ]
    },
    {
      "cell_type": "code",
      "source": [],
      "metadata": {
        "id": "92LCAyy713Sr"
      },
      "execution_count": 16,
      "outputs": []
    }
  ]
}